{
 "cells": [
  {
   "attachments": {},
   "cell_type": "markdown",
   "metadata": {},
   "source": [
    "# Software para analise de treliça"
   ]
  },
  {
   "cell_type": "code",
   "execution_count": 11,
   "metadata": {},
   "outputs": [],
   "source": [
    "from trelica import No, Barra, MatrixRigidez\n",
    "import numpy as np"
   ]
  },
  {
   "cell_type": "code",
   "execution_count": 12,
   "metadata": {},
   "outputs": [],
   "source": [
    "# definindo elementos da barra\n",
    "\n",
    "E = 200E9 # [Pa] módulo de elasticidade\n",
    "A = 2E-2 # [m^2] área da seção transversal"
   ]
  },
  {
   "cell_type": "code",
   "execution_count": 13,
   "metadata": {},
   "outputs": [],
   "source": [
    "# criando uma lista de 10 nós, sendo que todos estão no mesmo nivel em y, o primeiro travado em x e y\n",
    "# e o ultimo com carga horizontal de kn\n",
    "\n",
    "lis_no = [No(x=i*1,y=0,x_lock=i==0,y_lock=i==0,x_carga=(50e3 if i == 9 else 0),y_carga=0, grau_liberdade=1) for i in range(10)]"
   ]
  },
  {
   "cell_type": "code",
   "execution_count": 14,
   "metadata": {},
   "outputs": [
    {
     "name": "stdout",
     "output_type": "stream",
     "text": [
      "0 0 True True 0 0 1\n",
      "1 0 False False 0 0 1\n",
      "2 0 False False 0 0 1\n",
      "3 0 False False 0 0 1\n",
      "4 0 False False 0 0 1\n",
      "5 0 False False 0 0 1\n",
      "6 0 False False 0 0 1\n",
      "7 0 False False 0 0 1\n",
      "8 0 False False 0 0 1\n",
      "9 0 False False 50000.0 0 1\n"
     ]
    }
   ],
   "source": [
    "for no in lis_no:\n",
    "    print(no.x, no.y, no.x_lock, no.y_lock, no.x_carga, no.y_carga, no.grau_liberdade)"
   ]
  },
  {
   "cell_type": "code",
   "execution_count": 15,
   "metadata": {},
   "outputs": [],
   "source": [
    "# criando lista de elemento de barra\n",
    "\n",
    "lis_barra = [Barra(no1=lis_no[i],no2=lis_no[i+1],modulo_elasticidade=E,area_secao=A,x_carga=0,y_carga=0,x_pos_carga=0,y_pos_carga=0) for i in range(9)]"
   ]
  },
  {
   "cell_type": "code",
   "execution_count": 16,
   "metadata": {},
   "outputs": [
    {
     "name": "stdout",
     "output_type": "stream",
     "text": [
      "size = 1.0\n",
      "size = 1.0\n",
      "size = 1.0\n",
      "size = 1.0\n",
      "size = 1.0\n",
      "size = 1.0\n",
      "size = 1.0\n",
      "size = 1.0\n",
      "size = 1.0\n"
     ]
    }
   ],
   "source": [
    "for viga in lis_barra:\n",
    "    print(f\"size = {viga.size}\")"
   ]
  },
  {
   "attachments": {},
   "cell_type": "markdown",
   "metadata": {},
   "source": [
    "## Definido a matrix de rigidez"
   ]
  },
  {
   "cell_type": "code",
   "execution_count": 17,
   "metadata": {},
   "outputs": [],
   "source": [
    "matrix_rigidez = MatrixRigidez(lis_no = lis_no, lis_barra=lis_barra)"
   ]
  },
  {
   "cell_type": "code",
   "execution_count": 18,
   "metadata": {},
   "outputs": [
    {
     "data": {
      "text/plain": [
       "array([[ 4.e+09, -4.e+09,  0.e+00,  0.e+00,  0.e+00,  0.e+00,  0.e+00,\n",
       "         0.e+00,  0.e+00,  0.e+00],\n",
       "       [-4.e+09,  8.e+09, -4.e+09,  0.e+00,  0.e+00,  0.e+00,  0.e+00,\n",
       "         0.e+00,  0.e+00,  0.e+00],\n",
       "       [ 0.e+00, -4.e+09,  8.e+09, -4.e+09,  0.e+00,  0.e+00,  0.e+00,\n",
       "         0.e+00,  0.e+00,  0.e+00],\n",
       "       [ 0.e+00,  0.e+00, -4.e+09,  8.e+09, -4.e+09,  0.e+00,  0.e+00,\n",
       "         0.e+00,  0.e+00,  0.e+00],\n",
       "       [ 0.e+00,  0.e+00,  0.e+00, -4.e+09,  8.e+09, -4.e+09,  0.e+00,\n",
       "         0.e+00,  0.e+00,  0.e+00],\n",
       "       [ 0.e+00,  0.e+00,  0.e+00,  0.e+00, -4.e+09,  8.e+09, -4.e+09,\n",
       "         0.e+00,  0.e+00,  0.e+00],\n",
       "       [ 0.e+00,  0.e+00,  0.e+00,  0.e+00,  0.e+00, -4.e+09,  8.e+09,\n",
       "        -4.e+09,  0.e+00,  0.e+00],\n",
       "       [ 0.e+00,  0.e+00,  0.e+00,  0.e+00,  0.e+00,  0.e+00, -4.e+09,\n",
       "         8.e+09, -4.e+09,  0.e+00],\n",
       "       [ 0.e+00,  0.e+00,  0.e+00,  0.e+00,  0.e+00,  0.e+00,  0.e+00,\n",
       "        -4.e+09,  8.e+09, -4.e+09],\n",
       "       [ 0.e+00,  0.e+00,  0.e+00,  0.e+00,  0.e+00,  0.e+00,  0.e+00,\n",
       "         0.e+00, -4.e+09,  4.e+09]])"
      ]
     },
     "execution_count": 18,
     "metadata": {},
     "output_type": "execute_result"
    }
   ],
   "source": [
    "mat_rig = matrix_rigidez.processa()\n",
    "mat_rig"
   ]
  }
 ],
 "metadata": {
  "kernelspec": {
   "display_name": "base",
   "language": "python",
   "name": "python3"
  },
  "language_info": {
   "codemirror_mode": {
    "name": "ipython",
    "version": 3
   },
   "file_extension": ".py",
   "mimetype": "text/x-python",
   "name": "python",
   "nbconvert_exporter": "python",
   "pygments_lexer": "ipython3",
   "version": "3.9.13"
  },
  "orig_nbformat": 4
 },
 "nbformat": 4,
 "nbformat_minor": 2
}
