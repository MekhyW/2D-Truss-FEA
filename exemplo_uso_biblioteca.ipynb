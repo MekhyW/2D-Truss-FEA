{
 "cells": [
  {
   "attachments": {},
   "cell_type": "markdown",
   "metadata": {},
   "source": [
    "# Software para analise de treliça"
   ]
  },
  {
   "cell_type": "code",
   "execution_count": 1,
   "metadata": {},
   "outputs": [],
   "source": [
    "from trelica import No, Barra\n",
    "import numpy as np"
   ]
  },
  {
   "cell_type": "code",
   "execution_count": 2,
   "metadata": {},
   "outputs": [],
   "source": [
    "# definindo elementos da barra\n",
    "\n",
    "E = 210E9 # [Pa] módulo de elasticidade\n",
    "A = 2E-4 # [m^2] área da seção transversal"
   ]
  },
  {
   "cell_type": "code",
   "execution_count": 3,
   "metadata": {},
   "outputs": [],
   "source": [
    "# criando uma lista de 10 nós, sendo que todos estão no mesmo nivel em y, o primeiro travado em x e y\n",
    "# e o ultimo com carga horizontal de kn\n",
    "\n",
    "no_1 = No(x=0,y=0,x_lock=True,y_lock=False,x_carga=0,y_carga=0,x_numeracao_liberdade=0,y_numeracao_liberdade=1)\n",
    "no_2 = No(x=0,y=0.4,x_lock=True,y_lock=True,x_carga=0,y_carga=0,x_numeracao_liberdade=2,y_numeracao_liberdade=3)\n",
    "no_3 = No(x=0.3,y=0.4,x_lock=False,y_lock=False,x_carga=150,y_carga=-100,x_numeracao_liberdade=4,y_numeracao_liberdade=5)\n",
    "\n",
    "lis_no = [no_1,no_2,no_3]"
   ]
  },
  {
   "cell_type": "code",
   "execution_count": 4,
   "metadata": {},
   "outputs": [
    {
     "name": "stdout",
     "output_type": "stream",
     "text": [
      "0 0 True False 0 0 0 1\n",
      "0 0.4 True True 0 0 2 3\n",
      "0.3 0.4 False False 150 -100 4 5\n"
     ]
    }
   ],
   "source": [
    "for no in lis_no:\n",
    "    print(no.x, no.y, no.x_lock, no.y_lock, no.x_carga, no.y_carga, no.x_numeracao_liberdade, no.y_numeracao_liberdade)"
   ]
  },
  {
   "cell_type": "code",
   "execution_count": 5,
   "metadata": {},
   "outputs": [],
   "source": [
    "# criando lista de elemento de barra\n",
    "\n",
    "barra_1 = Barra(no_1,no_2,E,A)\n",
    "barra_2 = Barra(no_2,no_3,E,A)\n",
    "barra_3 = Barra(no_3,no_1,E,A)\n",
    "\n",
    "lis_barra = [barra_1,barra_2,barra_3]"
   ]
  },
  {
   "cell_type": "code",
   "execution_count": 6,
   "metadata": {},
   "outputs": [
    {
     "name": "stdout",
     "output_type": "stream",
     "text": [
      "size = 0.4\n",
      "size = 0.3\n",
      "size = 0.5\n"
     ]
    }
   ],
   "source": [
    "for barra in lis_barra:\n",
    "    print(f\"size = {barra.size}\")"
   ]
  },
  {
   "attachments": {},
   "cell_type": "markdown",
   "metadata": {},
   "source": [
    "## Definido a matrix de rigidez"
   ]
  },
  {
   "cell_type": "code",
   "execution_count": 7,
   "metadata": {},
   "outputs": [],
   "source": [
    "import pandas as pd"
   ]
  },
  {
   "cell_type": "code",
   "execution_count": 8,
   "metadata": {},
   "outputs": [
    {
     "data": {
      "text/plain": [
       "array([[0., 0., 0., 0., 0., 0.],\n",
       "       [0., 0., 0., 0., 0., 0.],\n",
       "       [0., 0., 0., 0., 0., 0.],\n",
       "       [0., 0., 0., 0., 0., 0.],\n",
       "       [0., 0., 0., 0., 0., 0.],\n",
       "       [0., 0., 0., 0., 0., 0.]])"
      ]
     },
     "execution_count": 8,
     "metadata": {},
     "output_type": "execute_result"
    }
   ],
   "source": [
    "matrix_rigidez = np.zeros(shape=(2*len(lis_no),2*len(lis_no)))\n",
    "# matrix_rigidez_teste = np.zeros(shape=(2*len(lis_no),2*len(lis_no)))\n",
    "matrix_rigidez"
   ]
  },
  {
   "cell_type": "code",
   "execution_count": 9,
   "metadata": {},
   "outputs": [
    {
     "data": {
      "text/plain": [
       "(6, 6)"
      ]
     },
     "execution_count": 9,
     "metadata": {},
     "output_type": "execute_result"
    }
   ],
   "source": [
    "matrix_rigidez.shape"
   ]
  },
  {
   "cell_type": "code",
   "execution_count": 10,
   "metadata": {},
   "outputs": [
    {
     "name": "stdout",
     "output_type": "stream",
     "text": [
      "[[ 0.00e+00  0.00e+00 -0.00e+00 -0.00e+00]\n",
      " [ 0.00e+00  1.05e+08 -0.00e+00  1.05e+08]\n",
      " [-0.00e+00 -0.00e+00  0.00e+00  0.00e+00]\n",
      " [-0.00e+00 -1.05e+08  0.00e+00  1.05e+08]]\n",
      "[[ 1.4e+08  0.0e+00 -1.4e+08 -0.0e+00]\n",
      " [ 0.0e+00  0.0e+00 -0.0e+00  0.0e+00]\n",
      " [-1.4e+08 -0.0e+00  1.4e+08  0.0e+00]\n",
      " [-0.0e+00 -0.0e+00  0.0e+00  0.0e+00]]\n",
      "[[ 30240000.          40320000.         -30240000.\n",
      "  -40320000.        ]\n",
      " [ 40320000.          53760000.00000001 -40320000.\n",
      "   53760000.00000001]\n",
      " [-30240000.         -40320000.          30240000.\n",
      "   40320000.        ]\n",
      " [-40320000.         -53760000.00000001  40320000.\n",
      "   53760000.00000001]]\n"
     ]
    }
   ],
   "source": [
    "for i in range(len(lis_barra)):\n",
    "    barra = lis_barra[i]\n",
    "    print(barra.k_local)\n",
    "    # using np.ix_ to index the matrix\n",
    "    matrix_rigidez[np.ix_(barra.dof,barra.dof)] += barra.k_local\n",
    "    # matrix_rigidez_teste[barra.dof[0]:barra.dof[1]+1,barra.dof[0]:barra.dof[1]+1] += barra.k_local[:2,:2]\n",
    "    # matrix_rigidez_teste[barra.dof[2]:barra.dof[3]+1,barra.dof[2]:barra.dof[3]+1] += barra.k_local[2:,2:]"
   ]
  },
  {
   "cell_type": "code",
   "execution_count": 11,
   "metadata": {},
   "outputs": [
    {
     "data": {
      "text/plain": [
       "array([[ 3.0240e+07,  4.0320e+07,  0.0000e+00,  0.0000e+00, -3.0240e+07,\n",
       "        -4.0320e+07],\n",
       "       [ 4.0320e+07,  1.5876e+08,  0.0000e+00,  1.0500e+08, -4.0320e+07,\n",
       "        -5.3760e+07],\n",
       "       [ 0.0000e+00,  0.0000e+00,  1.4000e+08,  0.0000e+00, -1.4000e+08,\n",
       "         0.0000e+00],\n",
       "       [ 0.0000e+00, -1.0500e+08,  0.0000e+00,  1.0500e+08,  0.0000e+00,\n",
       "         0.0000e+00],\n",
       "       [-3.0240e+07, -4.0320e+07, -1.4000e+08,  0.0000e+00,  1.7024e+08,\n",
       "         4.0320e+07],\n",
       "       [-4.0320e+07,  5.3760e+07,  0.0000e+00,  0.0000e+00,  4.0320e+07,\n",
       "         5.3760e+07]])"
      ]
     },
     "execution_count": 11,
     "metadata": {},
     "output_type": "execute_result"
    }
   ],
   "source": [
    "matrix_rigidez"
   ]
  }
 ],
 "metadata": {
  "kernelspec": {
   "display_name": "base",
   "language": "python",
   "name": "python3"
  },
  "language_info": {
   "codemirror_mode": {
    "name": "ipython",
    "version": 3
   },
   "file_extension": ".py",
   "mimetype": "text/x-python",
   "name": "python",
   "nbconvert_exporter": "python",
   "pygments_lexer": "ipython3",
   "version": "3.9.13"
  },
  "orig_nbformat": 4
 },
 "nbformat": 4,
 "nbformat_minor": 2
}
